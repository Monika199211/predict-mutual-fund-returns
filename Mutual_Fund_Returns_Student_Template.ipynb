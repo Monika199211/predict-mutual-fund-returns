{
 "cells": [
  {
   "cell_type": "code",
   "execution_count": 57,
   "metadata": {},
   "outputs": [],
   "source": [
    "# import the modules\n",
    "import pandas as pd \n",
    "import numpy as np\n",
    "import matplotlib.pyplot as plt"
   ]
  },
  {
   "cell_type": "markdown",
   "metadata": {},
   "source": [
    "### Load the dataset\n",
    "\n",
    "- Load the train data and using all your knowledge try to explore the different statistical properties of the dataset."
   ]
  },
  {
   "cell_type": "code",
   "execution_count": 58,
   "metadata": {},
   "outputs": [
    {
     "data": {
      "text/html": [
       "<div>\n",
       "<style scoped>\n",
       "    .dataframe tbody tr th:only-of-type {\n",
       "        vertical-align: middle;\n",
       "    }\n",
       "\n",
       "    .dataframe tbody tr th {\n",
       "        vertical-align: top;\n",
       "    }\n",
       "\n",
       "    .dataframe thead th {\n",
       "        text-align: right;\n",
       "    }\n",
       "</style>\n",
       "<table border=\"1\" class=\"dataframe\">\n",
       "  <thead>\n",
       "    <tr style=\"text-align: right;\">\n",
       "      <th></th>\n",
       "      <th>Id</th>\n",
       "      <th>Serial Number</th>\n",
       "      <th>total_net_assets</th>\n",
       "      <th>net_annual_expenses_ratio</th>\n",
       "      <th>morningstar_rating</th>\n",
       "      <th>portfolio_cash</th>\n",
       "      <th>portfolio_stocks</th>\n",
       "      <th>portfolio_bonds</th>\n",
       "      <th>portfolio_others</th>\n",
       "      <th>portfolio_preferred</th>\n",
       "      <th>...</th>\n",
       "      <th>category_102</th>\n",
       "      <th>category_103</th>\n",
       "      <th>category_104</th>\n",
       "      <th>category_105</th>\n",
       "      <th>category_106</th>\n",
       "      <th>category_107</th>\n",
       "      <th>investment_0</th>\n",
       "      <th>investment_1</th>\n",
       "      <th>investment_2</th>\n",
       "      <th>bonds_aaa</th>\n",
       "    </tr>\n",
       "  </thead>\n",
       "  <tbody>\n",
       "    <tr>\n",
       "      <th>0</th>\n",
       "      <td>3768</td>\n",
       "      <td>8372</td>\n",
       "      <td>211000</td>\n",
       "      <td>1.90</td>\n",
       "      <td>3</td>\n",
       "      <td>0.95</td>\n",
       "      <td>99.05</td>\n",
       "      <td>0.00</td>\n",
       "      <td>0.00</td>\n",
       "      <td>0.00</td>\n",
       "      <td>...</td>\n",
       "      <td>0.0</td>\n",
       "      <td>0.0</td>\n",
       "      <td>0.0</td>\n",
       "      <td>0.0</td>\n",
       "      <td>0.0</td>\n",
       "      <td>0.0</td>\n",
       "      <td>0.0</td>\n",
       "      <td>1.0</td>\n",
       "      <td>0.0</td>\n",
       "      <td>0.00</td>\n",
       "    </tr>\n",
       "    <tr>\n",
       "      <th>1</th>\n",
       "      <td>6244</td>\n",
       "      <td>5022</td>\n",
       "      <td>98930000</td>\n",
       "      <td>1.57</td>\n",
       "      <td>2</td>\n",
       "      <td>0.00</td>\n",
       "      <td>0.00</td>\n",
       "      <td>100.00</td>\n",
       "      <td>0.00</td>\n",
       "      <td>0.00</td>\n",
       "      <td>...</td>\n",
       "      <td>0.0</td>\n",
       "      <td>0.0</td>\n",
       "      <td>0.0</td>\n",
       "      <td>0.0</td>\n",
       "      <td>0.0</td>\n",
       "      <td>0.0</td>\n",
       "      <td>1.0</td>\n",
       "      <td>0.0</td>\n",
       "      <td>0.0</td>\n",
       "      <td>0.65</td>\n",
       "    </tr>\n",
       "    <tr>\n",
       "      <th>2</th>\n",
       "      <td>2230</td>\n",
       "      <td>3668</td>\n",
       "      <td>440000000</td>\n",
       "      <td>0.53</td>\n",
       "      <td>4</td>\n",
       "      <td>1.71</td>\n",
       "      <td>0.00</td>\n",
       "      <td>98.29</td>\n",
       "      <td>0.00</td>\n",
       "      <td>0.00</td>\n",
       "      <td>...</td>\n",
       "      <td>0.0</td>\n",
       "      <td>0.0</td>\n",
       "      <td>0.0</td>\n",
       "      <td>0.0</td>\n",
       "      <td>0.0</td>\n",
       "      <td>0.0</td>\n",
       "      <td>1.0</td>\n",
       "      <td>0.0</td>\n",
       "      <td>0.0</td>\n",
       "      <td>93.20</td>\n",
       "    </tr>\n",
       "    <tr>\n",
       "      <th>3</th>\n",
       "      <td>7518</td>\n",
       "      <td>8745</td>\n",
       "      <td>56050000</td>\n",
       "      <td>0.93</td>\n",
       "      <td>3</td>\n",
       "      <td>2.64</td>\n",
       "      <td>31.29</td>\n",
       "      <td>57.06</td>\n",
       "      <td>0.80</td>\n",
       "      <td>7.62</td>\n",
       "      <td>...</td>\n",
       "      <td>0.0</td>\n",
       "      <td>0.0</td>\n",
       "      <td>0.0</td>\n",
       "      <td>0.0</td>\n",
       "      <td>0.0</td>\n",
       "      <td>0.0</td>\n",
       "      <td>1.0</td>\n",
       "      <td>0.0</td>\n",
       "      <td>0.0</td>\n",
       "      <td>2.64</td>\n",
       "    </tr>\n",
       "    <tr>\n",
       "      <th>4</th>\n",
       "      <td>8037</td>\n",
       "      <td>17449</td>\n",
       "      <td>173040000</td>\n",
       "      <td>2.26</td>\n",
       "      <td>2</td>\n",
       "      <td>5.24</td>\n",
       "      <td>94.75</td>\n",
       "      <td>0.00</td>\n",
       "      <td>0.01</td>\n",
       "      <td>0.00</td>\n",
       "      <td>...</td>\n",
       "      <td>0.0</td>\n",
       "      <td>0.0</td>\n",
       "      <td>0.0</td>\n",
       "      <td>0.0</td>\n",
       "      <td>0.0</td>\n",
       "      <td>0.0</td>\n",
       "      <td>1.0</td>\n",
       "      <td>0.0</td>\n",
       "      <td>0.0</td>\n",
       "      <td>0.00</td>\n",
       "    </tr>\n",
       "  </tbody>\n",
       "</table>\n",
       "<p>5 rows × 154 columns</p>\n",
       "</div>"
      ],
      "text/plain": [
       "     Id  Serial Number  total_net_assets  net_annual_expenses_ratio  \\\n",
       "0  3768           8372            211000                       1.90   \n",
       "1  6244           5022          98930000                       1.57   \n",
       "2  2230           3668         440000000                       0.53   \n",
       "3  7518           8745          56050000                       0.93   \n",
       "4  8037          17449         173040000                       2.26   \n",
       "\n",
       "   morningstar_rating  portfolio_cash  portfolio_stocks  portfolio_bonds  \\\n",
       "0                   3            0.95             99.05             0.00   \n",
       "1                   2            0.00              0.00           100.00   \n",
       "2                   4            1.71              0.00            98.29   \n",
       "3                   3            2.64             31.29            57.06   \n",
       "4                   2            5.24             94.75             0.00   \n",
       "\n",
       "   portfolio_others  portfolio_preferred  ...  category_102  category_103  \\\n",
       "0              0.00                 0.00  ...           0.0           0.0   \n",
       "1              0.00                 0.00  ...           0.0           0.0   \n",
       "2              0.00                 0.00  ...           0.0           0.0   \n",
       "3              0.80                 7.62  ...           0.0           0.0   \n",
       "4              0.01                 0.00  ...           0.0           0.0   \n",
       "\n",
       "   category_104  category_105  category_106  category_107  investment_0  \\\n",
       "0           0.0           0.0           0.0           0.0           0.0   \n",
       "1           0.0           0.0           0.0           0.0           1.0   \n",
       "2           0.0           0.0           0.0           0.0           1.0   \n",
       "3           0.0           0.0           0.0           0.0           1.0   \n",
       "4           0.0           0.0           0.0           0.0           1.0   \n",
       "\n",
       "   investment_1  investment_2  bonds_aaa  \n",
       "0           1.0           0.0       0.00  \n",
       "1           0.0           0.0       0.65  \n",
       "2           0.0           0.0      93.20  \n",
       "3           0.0           0.0       2.64  \n",
       "4           0.0           0.0       0.00  \n",
       "\n",
       "[5 rows x 154 columns]"
      ]
     },
     "execution_count": 58,
     "metadata": {},
     "output_type": "execute_result"
    }
   ],
   "source": [
    "# Code starts here\n",
    "data = pd.read_csv(\"train.csv\")\n",
    "data.head()"
   ]
  },
  {
   "cell_type": "code",
   "execution_count": 59,
   "metadata": {},
   "outputs": [
    {
     "name": "stdout",
     "output_type": "stream",
     "text": [
      "(9518, 154)\n",
      "                 Id  Serial Number  total_net_assets  \\\n",
      "count   9518.000000    9518.000000      9.518000e+03   \n",
      "mean    5972.644988    8854.235869      2.473000e+09   \n",
      "std     3435.630920    5144.138813      1.050165e+10   \n",
      "min        0.000000       2.000000      5.000000e+03   \n",
      "25%     3003.500000    4366.250000      6.994750e+07   \n",
      "50%     5979.000000    8879.000000      3.255700e+08   \n",
      "75%     8950.750000   13279.250000      1.410000e+09   \n",
      "max    11896.000000   17773.000000      1.880000e+11   \n",
      "\n",
      "       net_annual_expenses_ratio  morningstar_rating  portfolio_cash  \\\n",
      "count                9518.000000         9518.000000     9518.000000   \n",
      "mean                    1.018988            2.752994        6.853698   \n",
      "std                     0.607111            1.363690       11.577991   \n",
      "min                     0.000000            0.000000        0.000000   \n",
      "25%                     0.610000            2.000000        1.122500   \n",
      "50%                     0.960000            3.000000        2.950000   \n",
      "75%                     1.370000            4.000000        6.690000   \n",
      "max                     7.070000            5.000000      100.000000   \n",
      "\n",
      "       portfolio_stocks  portfolio_bonds  portfolio_others  \\\n",
      "count       9518.000000      9518.000000       9518.000000   \n",
      "mean          59.393899        30.249100          1.577069   \n",
      "std           42.067778        38.712283          6.416054   \n",
      "min            0.000000         0.000000          0.000000   \n",
      "25%            0.590000         0.000000          0.000000   \n",
      "50%           83.180000         1.390000          0.000000   \n",
      "75%           97.460000        65.702500          0.870000   \n",
      "max          100.000000       100.000000         94.710000   \n",
      "\n",
      "       portfolio_preferred  ...  category_102  category_103  category_104  \\\n",
      "count          9518.000000  ...   9518.000000   9518.000000   9518.000000   \n",
      "mean              0.371074  ...      0.001891      0.000315      0.020172   \n",
      "std               2.539131  ...      0.043449      0.017752      0.140597   \n",
      "min               0.000000  ...      0.000000      0.000000      0.000000   \n",
      "25%               0.000000  ...      0.000000      0.000000      0.000000   \n",
      "50%               0.000000  ...      0.000000      0.000000      0.000000   \n",
      "75%               0.010000  ...      0.000000      0.000000      0.000000   \n",
      "max              71.420000  ...      1.000000      1.000000      1.000000   \n",
      "\n",
      "       category_105  category_106  category_107  investment_0  investment_1  \\\n",
      "count   9518.000000   9518.000000   9518.000000   9518.000000   9518.000000   \n",
      "mean       0.011452      0.034251      0.005358      0.466905      0.262135   \n",
      "std        0.106405      0.181883      0.073008      0.498930      0.439819   \n",
      "min        0.000000      0.000000      0.000000      0.000000      0.000000   \n",
      "25%        0.000000      0.000000      0.000000      0.000000      0.000000   \n",
      "50%        0.000000      0.000000      0.000000      0.000000      0.000000   \n",
      "75%        0.000000      0.000000      0.000000      1.000000      1.000000   \n",
      "max        1.000000      1.000000      1.000000      1.000000      1.000000   \n",
      "\n",
      "       investment_2    bonds_aaa  \n",
      "count   9518.000000  9518.000000  \n",
      "mean       0.270960    12.419950  \n",
      "std        0.444479    23.569492  \n",
      "min        0.000000    -7.600000  \n",
      "25%        0.000000     0.000000  \n",
      "50%        0.000000     0.000000  \n",
      "75%        1.000000    13.310000  \n",
      "max        1.000000   102.790000  \n",
      "\n",
      "[8 rows x 154 columns]\n"
     ]
    }
   ],
   "source": [
    "print(data.shape)\n",
    "print(data.describe())"
   ]
  },
  {
   "cell_type": "code",
   "execution_count": 60,
   "metadata": {},
   "outputs": [],
   "source": [
    "data.drop([\"Id\",\"Serial Number\"],1,inplace=True)"
   ]
  },
  {
   "cell_type": "code",
   "execution_count": 61,
   "metadata": {},
   "outputs": [
    {
     "data": {
      "text/plain": [
       "(9518, 152)"
      ]
     },
     "execution_count": 61,
     "metadata": {},
     "output_type": "execute_result"
    }
   ],
   "source": [
    "data.shape"
   ]
  },
  {
   "cell_type": "code",
   "execution_count": 62,
   "metadata": {},
   "outputs": [
    {
     "data": {
      "text/plain": [
       "morningstar_rating         morningstar_return_rating    0.964080\n",
       "morningstar_return_rating  morningstar_rating           0.964080\n",
       "portfolio_stocks           portfolio_bonds              0.917010\n",
       "portfolio_bonds            portfolio_stocks             0.917010\n",
       "category_12                portfolio_convertable        0.899705\n",
       "portfolio_convertable      category_12                  0.899705\n",
       "sharpe_ratio_3y            mean_annual_return_3y        0.766910\n",
       "mean_annual_return_3y      sharpe_ratio_3y              0.766910\n",
       "dtype: float64"
      ]
     },
     "execution_count": 62,
     "metadata": {},
     "output_type": "execute_result"
    }
   ],
   "source": [
    "# Code starts here\n",
    "correlation = abs(data.corr())\n",
    "#print(correlation)\n",
    "us_correlation = correlation.unstack()\n",
    "#us_correlation = pd.DataFrame(us_correlation)\n",
    "us_correlation = us_correlation.sort_values(ascending = False)\n",
    "us_correlation\n",
    "max_correlated = us_correlation[(us_correlation>0.75) & (us_correlation<1)]\n",
    "\n",
    "max_correlated\n",
    "\n",
    "# Code ends here"
   ]
  },
  {
   "cell_type": "code",
   "execution_count": 63,
   "metadata": {},
   "outputs": [],
   "source": [
    "data.drop('morningstar_rating',1, inplace=True)\n",
    "data.drop('portfolio_stocks',1, inplace=True)\n",
    "data.drop('category_12',1, inplace=True)\n",
    "data.drop('sharpe_ratio_3y',1, inplace=True)"
   ]
  },
  {
   "cell_type": "code",
   "execution_count": 64,
   "metadata": {},
   "outputs": [
    {
     "data": {
      "text/plain": [
       "(9518, 148)"
      ]
     },
     "execution_count": 64,
     "metadata": {},
     "output_type": "execute_result"
    }
   ],
   "source": [
    "data.shape"
   ]
  },
  {
   "cell_type": "code",
   "execution_count": 65,
   "metadata": {},
   "outputs": [
    {
     "name": "stdout",
     "output_type": "stream",
     "text": [
      "   return  risk\n",
      "3    3138  3057\n",
      "4    2091  2098\n",
      "2    1907  1763\n",
      "0     994   995\n",
      "5     790   890\n",
      "1     598   715\n",
      "Dependent (reject H0)\n",
      "significance=0.050, p=0.000\n",
      "Dependent (reject H0)\n"
     ]
    }
   ],
   "source": [
    "#Importing header files\n",
    "from scipy.stats import chi2_contingency\n",
    "import scipy.stats as stats\n",
    "\n",
    "#Critical value \n",
    "critical_value = stats.chi2.ppf(q = 0.95, # Find the critical value for 95% confidence*\n",
    "                      df = 11)   # Df = number of variable categories(in purpose) - 1\n",
    "\n",
    "# Code starts here\n",
    "prob = 0.95\n",
    "return_rating = data[\"morningstar_return_rating\"].value_counts()\n",
    "risk_rating = data[\"morningstar_risk_rating\"].value_counts()\n",
    "observed = pd.concat([return_rating.transpose() ,risk_rating.transpose()] , axis=1 , keys= ['return','risk'])\n",
    "print(observed)\n",
    "\n",
    "chi2 , p, dof, ex = chi2_contingency(observed)\n",
    "if abs(chi2) >= critical_value:\n",
    "    print('Dependent (reject H0)')\n",
    "else:\n",
    "    print('Independent (fail to reject H0)')\n",
    "# interpret p-value\n",
    "alpha = 1.0 - prob\n",
    "print('significance=%.3f, p=%.3f' % (alpha, p))\n",
    "if p <= alpha:\n",
    "    print('Dependent (reject H0)')\n",
    "else:\n",
    "    print('Independent (fail to reject H0)')"
   ]
  },
  {
   "cell_type": "markdown",
   "metadata": {},
   "source": [
    "### Visualize the data\n",
    "\n",
    "- Check for the categorical & continuous features. \n",
    "- Check out the best plots for plotting between categorical target and continuous features and try making some inferences from these plots.\n",
    "- Check for the correlation between the features and do some Hypothesis Testing to see if there is strong association between features.\n",
    "- Clean the data, remove correlated features and apply some data preprocessing techniques"
   ]
  },
  {
   "cell_type": "code",
   "execution_count": 66,
   "metadata": {},
   "outputs": [
    {
     "data": {
      "text/plain": [
       "Text(0.5, 1.0, 'net_annual_expenses_ratio')"
      ]
     },
     "execution_count": 66,
     "metadata": {},
     "output_type": "execute_result"
    },
    {
     "data": {
      "image/png": "[encoded data removed]",
      "text/plain": [
       "<Figure size 432x288 with 2 Axes>"
      ]
     },
     "metadata": {
      "needs_background": "light"
     },
     "output_type": "display_data"
    }
   ],
   "source": [
    "# Code starts here\n",
    "\n",
    "\n",
    "f, (ax_1, ax_2) = plt.subplots(1, 2)\n",
    "ax_1.boxplot(data['price_earning'])\n",
    "ax_1.set_title('price_earning')\n",
    "ax_2.boxplot(data[\"net_annual_expenses_ratio\"])\n",
    "ax_2.set_title('net_annual_expenses_ratio')\n",
    "\n",
    "\n",
    "\n",
    "\n",
    "\n",
    "\n",
    "\n",
    "\n",
    "# Code ends here."
   ]
  },
  {
   "cell_type": "markdown",
   "metadata": {},
   "source": [
    "### Model building\n",
    "\n",
    "- Separate the features and target.\n",
    "- Now let's come to the actual task, using linear regression, predict the `bonds_aaa`. Use different techniques you have learned to imporove the performance of the model.\n",
    "- Try improving upon the square root of `mean_squared_error` ([Root Mean Squared Error](https://scikit-learn.org/stable/modules/generated/sklearn.metrics.mean_squared_error.html)) using different parameters that give the best score.\n"
   ]
  },
  {
   "cell_type": "code",
   "execution_count": 67,
   "metadata": {},
   "outputs": [
    {
     "name": "stdout",
     "output_type": "stream",
     "text": [
      "The RMSE of model is: 16\n"
     ]
    }
   ],
   "source": [
    "# Code Starts here\n",
    "from sklearn.model_selection import train_test_split\n",
    "from sklearn.linear_model import LinearRegression\n",
    "from sklearn.metrics import r2_score,mean_squared_error\n",
    "from math import sqrt\n",
    "# Code starts here\n",
    "X = data.drop('bonds_aaa',1)\n",
    "y = data['bonds_aaa'].copy()\n",
    "X_train,X_test,y_train,y_test =train_test_split(X,y, test_size = 0.3 , random_state = 3)\n",
    "\n",
    "lr = LinearRegression()\n",
    "lr.fit(X_train,y_train)\n",
    "y_pred = lr.predict(X_test)\n",
    "rmse = sqrt(mean_squared_error(y_test,y_pred))\n",
    "print(\"The RMSE of model is:\",round(rmse))\n",
    "\n",
    "\n",
    "# Code ends here"
   ]
  },
  {
   "cell_type": "raw",
   "metadata": {},
   "source": [
    "from sklearn.model_selection import GridSearchCV, RandomizedSearchCV\n",
    "from sklearn.linear_model import Ridge,Lasso\n",
    "from sklearn.linear_model import LinearRegression\n",
    "# regularization parameters for grid search\n",
    "ridge_lambdas = [0.01, 0.03, 0.06, 0.1, 0.3, 0.6, 1, 3, 6, 10, 30, 60]\n",
    "lasso_lambdas = [0.0001, 0.0003, 0.0006, 0.001, 0.003, 0.006, 0.01, 0.03, 0.06, 0.1, 0.3, 0.6, 1]\n",
    "\n",
    "# Code starts here\n",
    "regressor = LinearRegression()\n",
    "ridge_model = Ridge(random_state = 0)\n",
    "ridge_grid = GridSearchCV(estimator=ridge_model, param_grid=dict(alpha=ridge_lambdas))\n",
    "ridge_grid.fit(X_train,y_train)\n",
    "ridge_pred = ridge_grid.predict(X_test)\n",
    "ridge_rmse = np.sqrt(mean_squared_error(ridge_pred,y_test))\n",
    "print(\"Ridge RMSE:\",ridge_rmse)\n",
    "\n",
    "lasso_model = Lasso(random_state = 0)\n",
    "lasso_grid = GridSearchCV(estimator=lasso_model, param_grid=dict(alpha=lasso_lambdas))\n",
    "lasso_grid.fit(X_train,y_train)\n",
    "lasso_pred = lasso_grid.predict(X_test)\n",
    "lasso_rmse = np.sqrt(mean_squared_error(lasso_pred,y_test))\n",
    "print(\"Lasso RMSE:\",lasso_rmse)"
   ]
  },
  {
   "cell_type": "markdown",
   "metadata": {},
   "source": [
    "### Prediction on the test data and creating the sample submission file.\n",
    "\n",
    "- Load the test data and store the `Id` column in a separate variable.\n",
    "- Perform the same operations on the test data that you have performed on the train data.\n",
    "- Create the submission file as a `csv` file consisting of the `Id` column from the test data and your prediction as the second column."
   ]
  },
  {
   "cell_type": "code",
   "execution_count": 70,
   "metadata": {},
   "outputs": [],
   "source": [
    "# Code Starts here\n",
    "test=pd.read_csv(\"test.csv\")\n",
    "Id=test[\"Id\"]\n",
    "test.drop([\"Id\",\"Serial Number\",\"morningstar_rating\"],1, inplace=True)\n",
    "test.drop('portfolio_stocks',1, inplace=True)\n",
    "test.drop('category_12',1, inplace=True)\n",
    "test.drop('sharpe_ratio_3y',1, inplace=True)\n",
    "y_pred = lr.predict(test)\n",
    "y_pred\n",
    "\n",
    "sample_submission = pd.DataFrame({'Id':Id,'bonds_aaa':y_pred})\n",
    "\n",
    "# Convert the sample submission file into a csv file\n",
    "sample_submission.to_csv('1st_submission.csv',index=False)\n",
    "# Code ends here"
   ]
  },
  {
   "cell_type": "code",
   "execution_count": null,
   "metadata": {},
   "outputs": [],
   "source": []
  }
 ],
 "metadata": {
  "kernelspec": {
   "display_name": "Python 3",
   "language": "python",
   "name": "python3"
  },
  "language_info": {
   "codemirror_mode": {
    "name": "ipython",
    "version": 3
   },
   "file_extension": ".py",
   "mimetype": "text/x-python",
   "name": "python",
   "nbconvert_exporter": "python",
   "pygments_lexer": "ipython3",
   "version": "3.8.3"
  }
 },
 "nbformat": 4,
 "nbformat_minor": 4
}
